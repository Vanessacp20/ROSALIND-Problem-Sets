{
 "cells": [
  {
   "cell_type": "code",
   "execution_count": 32,
   "id": "f93f3056",
   "metadata": {},
   "outputs": [],
   "source": [
    "import this"
   ]
  },
  {
   "cell_type": "markdown",
   "id": "663bf718",
   "metadata": {},
   "source": [
    "<h4>Variables and Some Arithmetic</h4>"
   ]
  },
  {
   "cell_type": "code",
   "execution_count": 20,
   "id": "fc51cde6",
   "metadata": {},
   "outputs": [
    {
     "name": "stdout",
     "output_type": "stream",
     "text": [
      "Enter Values Here: 884 834\n",
      "1477012\n"
     ]
    }
   ],
   "source": [
    "input_ = input(\"Enter Values Here: \")\n",
    "input_ = input_.split(\" \")\n",
    "input_ = [int(i) for i in input_]\n",
    "\n",
    "#calculate the hypotenuse^2\n",
    "a = input_[0]\n",
    "b = input_[1]\n",
    "\n",
    "c_sqrt = pow(a, 2) + pow(b, 2)\n",
    "\n",
    "print(c_sqrt)"
   ]
  },
  {
   "cell_type": "code",
   "execution_count": 4,
   "id": "d2bdfa82",
   "metadata": {},
   "outputs": [],
   "source": [
    "#can use in future problems - the function bank \n",
    "def inputString_to_intList(input_string):\n",
    "    input_list = input_string.split(\" \")\n",
    "    input_intList = [int(i) for i in input_list]\n",
    "    return input_intList"
   ]
  },
  {
   "cell_type": "markdown",
   "id": "59a39175",
   "metadata": {},
   "source": [
    "<h4>Strings and Lists</h4>"
   ]
  },
  {
   "cell_type": "code",
   "execution_count": 5,
   "id": "0fd7ecea",
   "metadata": {},
   "outputs": [
    {
     "name": "stdout",
     "output_type": "stream",
     "text": [
      "Enter String Here: woz4N7b9HoxX0NqS8WloFp7MQGX5ciGHKqAEnzQHfMFCE1fb0bBxREonApv70W1Z6KptU3hh0Hwm87r5XOvisyG7oZg7uFu5yRU4oOODXb4AeXMDoGc9L36sZjgE6fhpE08NdQsUvHVlNb2kiEfpmvGqJschrenckiUC.\n",
      "Enter Slices: 81 84 153 161\n",
      "Ovis schrencki\n"
     ]
    }
   ],
   "source": [
    "## string = input(\"Enter String Here: \")\n",
    "string = input(\"Enter String Here: \")\n",
    "slices_list = input(\"Enter Slices: \")\n",
    "slices = inputString_to_intList(slices_list)\n",
    "\n",
    "length_string = len(string)\n",
    "\n",
    "a = slices[0]\n",
    "b = slices[1] + 1\n",
    "c = slices[2]\n",
    "d = slices[3] + 1\n",
    "\n",
    "slice1 = string[a:b]\n",
    "slice2 = string[c:d]\n",
    "\n",
    "print(f'{slice1} {slice2}')"
   ]
  },
  {
   "cell_type": "markdown",
   "id": "5caa6abf",
   "metadata": {},
   "source": [
    "<h4>Conditions and Loops</h4>"
   ]
  },
  {
   "cell_type": "code",
   "execution_count": 16,
   "id": "a30abd44",
   "metadata": {},
   "outputs": [
    {
     "name": "stdout",
     "output_type": "stream",
     "text": [
      "Enter the two integers: 4330 8518\n",
      "13451856\n"
     ]
    }
   ],
   "source": [
    "start_end = input(\"Enter the two integers: \")\n",
    "start_end = inputString_to_intList(start_end)\n",
    "\n",
    "interval = list(range(start_end[0],start_end[1]+1))\n",
    "odd_list = []\n",
    "\n",
    "for i in interval: \n",
    "    if (i % 2) == 0:\n",
    "        pass\n",
    "    else:\n",
    "        odd_list.append(i)\n",
    "        \n",
    "odd_sum = sum(odd_list)\n",
    "print(odd_sum)"
   ]
  },
  {
   "cell_type": "markdown",
   "id": "fe1770b0",
   "metadata": {},
   "source": [
    "<h4>Reading and Writing</h4>"
   ]
  },
  {
   "cell_type": "code",
   "execution_count": 20,
   "id": "b2cd7c54",
   "metadata": {},
   "outputs": [],
   "source": [
    "f = open(\"rosalind_ini5.txt\")\n",
    "i = 1"
   ]
  },
  {
   "cell_type": "code",
   "execution_count": 21,
   "id": "64239ff7",
   "metadata": {},
   "outputs": [
    {
     "name": "stdout",
     "output_type": "stream",
     "text": [
      "Some things in life are bad, they can really make you mad\n",
      "\n",
      "Other things just make you swear and curse\n",
      "\n",
      "When you're chewing on life's gristle, don't grumble give a whistle\n",
      "\n",
      "This will help things turn out for the best\n",
      "\n",
      "Always look on the bright side of life\n",
      "\n",
      "Always look on the right side of life\n",
      "\n",
      "If life seems jolly rotten, there's something you've forgotten\n",
      "\n",
      "And that's to laugh and smile and dance and sing\n",
      "\n",
      "When you're feeling in the dumps, don't be silly, chumps\n",
      "\n",
      "Just purse your lips and whistle, that's the thing\n",
      "\n",
      "So, always look on the bright side of death\n",
      "\n",
      "Just before you draw your terminal breath\n",
      "\n",
      "Life's a counterfeit and when you look at it\n",
      "\n",
      "Life's a laugh and death's the joke, it's true\n",
      "\n",
      "You see, it's all a show, keep them laughing as you go\n",
      "\n",
      "Just remember the last laugh is on you\n",
      "\n",
      "Always look on the bright side of life\n",
      "\n",
      "And always look on the right side of life\n",
      "\n",
      "Always look on the bright side of life\n",
      "\n",
      "And always look on the right side of life\n",
      "\n"
     ]
    }
   ],
   "source": [
    "for line in f.readlines():\n",
    "    if (i % 2) == 0:\n",
    "        print(line)\n",
    "    i += 1"
   ]
  },
  {
   "cell_type": "markdown",
   "id": "eb1b0ea5",
   "metadata": {},
   "source": [
    "<h4>Dictionaries</h4>"
   ]
  },
  {
   "cell_type": "code",
   "execution_count": 21,
   "id": "9319f740",
   "metadata": {},
   "outputs": [
    {
     "name": "stdout",
     "output_type": "stream",
     "text": [
      "Input String Here: When I find myself in times of trouble Mother Mary comes to me Speaking words of wisdom let it be And in my hour of darkness she is standing right in front of me Speaking words of wisdom let it be Let it be let it be let it be let it be Whisper words of wisdom let it be And when the broken hearted people living in the world agree There will be an answer let it be For though they may be parted there is still a chance that they will see There will be an answer let it be Let it be let it be let it be let it be There will be an answer let it be Let it be let it be let it be let it be Whisper words of wisdom let it be Let it be let it be let it be let it be Whisper words of wisdom let it be And when the night is cloudy there is still a light that shines on me Shine until tomorrow let it be I wake up to the sound of music Mother Mary comes to me Speaking words of wisdom let it be Let it be let it be let it be yeah let it be There will be an answer let it be Let it be let it be let it be yeah let it be Whisper words of wisdom let it be\n",
      "When 1\n",
      "I 2\n",
      "find 1\n",
      "myself 1\n",
      "in 4\n",
      "times 1\n",
      "of 11\n",
      "trouble 1\n",
      "Mother 2\n",
      "Mary 2\n",
      "comes 2\n",
      "to 3\n",
      "me 4\n",
      "Speaking 3\n",
      "words 7\n",
      "wisdom 7\n",
      "let 30\n",
      "it 36\n",
      "be 41\n",
      "And 3\n",
      "my 1\n",
      "hour 1\n",
      "darkness 1\n",
      "she 1\n",
      "is 4\n",
      "standing 1\n",
      "right 1\n",
      "front 1\n",
      "Let 6\n",
      "Whisper 4\n",
      "when 2\n",
      "the 4\n",
      "broken 1\n",
      "hearted 1\n",
      "people 1\n",
      "living 1\n",
      "world 1\n",
      "agree 1\n",
      "There 4\n",
      "will 5\n",
      "an 4\n",
      "answer 4\n",
      "For 1\n",
      "though 1\n",
      "they 2\n",
      "may 1\n",
      "parted 1\n",
      "there 2\n",
      "still 2\n",
      "a 2\n",
      "chance 1\n",
      "that 2\n",
      "see 1\n",
      "night 1\n",
      "cloudy 1\n",
      "light 1\n",
      "shines 1\n",
      "on 1\n",
      "Shine 1\n",
      "until 1\n",
      "tomorrow 1\n",
      "wake 1\n",
      "up 1\n",
      "sound 1\n",
      "music 1\n",
      "yeah 2\n"
     ]
    }
   ],
   "source": [
    "string = input(\"Input String Here: \")\n",
    "d = {}\n",
    "\n",
    "for word in string.split(\" \"):\n",
    "    if word in d:\n",
    "        d[word] += 1\n",
    "    elif word not in d:\n",
    "        d[word] = 1\n",
    "\n",
    "for key, value in d.items():\n",
    "    print(key, value)"
   ]
  }
 ],
 "metadata": {
  "kernelspec": {
   "display_name": "Python 3 (ipykernel)",
   "language": "python",
   "name": "python3"
  },
  "language_info": {
   "codemirror_mode": {
    "name": "ipython",
    "version": 3
   },
   "file_extension": ".py",
   "mimetype": "text/x-python",
   "name": "python",
   "nbconvert_exporter": "python",
   "pygments_lexer": "ipython3",
   "version": "3.9.12"
  }
 },
 "nbformat": 4,
 "nbformat_minor": 5
}
